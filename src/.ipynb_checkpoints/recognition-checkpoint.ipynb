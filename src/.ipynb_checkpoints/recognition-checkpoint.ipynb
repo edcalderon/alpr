{
 "cells": [
  {
   "cell_type": "code",
   "execution_count": 18,
   "metadata": {},
   "outputs": [
    {
     "name": "stdout",
     "output_type": "stream",
     "text": [
      "Detected Number is: \n"
     ]
    },
    {
     "data": {
      "text/plain": [
       "<matplotlib.image.AxesImage at 0x7fd1ecd0ebe0>"
      ]
     },
     "execution_count": 18,
     "metadata": {},
     "output_type": "execute_result"
    },
    {
     "data": {
      "image/png": "[encoded data removed]",
      "text/plain": [
       "<Figure size 432x288 with 1 Axes>"
      ]
     },
     "metadata": {
      "needs_background": "light"
     },
     "output_type": "display_data"
    }
   ],
   "source": [
    "import cv2\n",
    "import imutils\n",
    "import numpy as np\n",
    "import pytesseract\n",
    "from PIL import Image\n",
    "from matplotlib import pyplot as plt \n",
    "\n",
    "img = cv2.imread('2.jpg',cv2.IMREAD_COLOR)\n",
    "\n",
    "img = cv2.resize(img, (620,480) )\n",
    "\n",
    "gray = cv2.cvtColor(img, cv2.COLOR_BGR2GRAY) #convert to grey scale\n",
    "gray = cv2.bilateralFilter(gray, 11, 17, 17) #Blur to reduce noise\n",
    "edged = cv2.Canny(gray, 40, 150) #Perform Edge detection\n",
    "\n",
    "plt.imshow(edged)\n",
    "\n",
    "\n",
    "# find contours in the edged image, keep only the largest\n",
    "# ones, and initialize our screen contour\n",
    "cnts = cv2.findContours(edged.copy(), cv2.RETR_TREE, cv2.CHAIN_APPROX_SIMPLE)\n",
    "cnts = imutils.grab_contours(cnts)\n",
    "cnts = sorted(cnts, key = cv2.contourArea, reverse = True)[:10]\n",
    "screenCnt = None\n",
    "\n",
    "# loop over our contours\n",
    "for c in cnts:\n",
    "    # approximate the contour\n",
    "    peri = cv2.arcLength(c, True)\n",
    "    approx = cv2.approxPolyDP(c, 0.018 * peri, True)\n",
    "\n",
    "    # if our approximated contour has four points, then\n",
    "    # we can assume that we have found our screen\n",
    "    if len(approx) == 4:\n",
    "        screenCnt = approx\n",
    "        break\n",
    "\n",
    "if screenCnt is None:\n",
    "    detected = 0\n",
    "    print (\"No contour detected\")\n",
    "else:\n",
    "    detected = 1\n",
    "\n",
    "if detected == 1:\n",
    "    cv2.drawContours(img, [screenCnt], -1, (0, 255, 0), 3)\n",
    "\n",
    "# Masking the part other than the number plate\n",
    "mask = np.zeros(gray.shape,np.uint8)\n",
    "new_image = cv2.drawContours(mask,[screenCnt],0,255,-1,)\n",
    "new_image = cv2.bitwise_and(img,img,mask=mask)\n",
    "\n",
    "# Now crop\n",
    "(x, y) = np.where(mask == 255)\n",
    "(topx, topy) = (np.min(x), np.min(y))\n",
    "(bottomx, bottomy) = (np.max(x), np.max(y))\n",
    "Cropped = gray[topx:bottomx+1, topy:bottomy+1]\n",
    "\n",
    " \n",
    "\n",
    "#Read the number plate\n",
    "text = pytesseract.image_to_string(Cropped, config='--psm 11')\n",
    "print(\"Detected Number is:\",text)\n",
    "\n",
    "plt.imshow(img)\n",
    "plt.imshow(Cropped)\n",
    "\n",
    "\n"
   ]
  },
  {
   "cell_type": "code",
   "execution_count": 20,
   "metadata": {},
   "outputs": [
    {
     "ename": "SyntaxError",
     "evalue": "invalid character in identifier (<ipython-input-20-e1a037d66080>, line 3)",
     "output_type": "error",
     "traceback": [
      "\u001b[0;36m  File \u001b[0;32m\"<ipython-input-20-e1a037d66080>\"\u001b[0;36m, line \u001b[0;32m3\u001b[0m\n\u001b[0;31m    text = pytesseract.image_to_string(img, config=’’)\u001b[0m\n\u001b[0m                                                    ^\u001b[0m\n\u001b[0;31mSyntaxError\u001b[0m\u001b[0;31m:\u001b[0m invalid character in identifier\n"
     ]
    }
   ],
   "source": [
    "from PIL import Image\n",
    "img = Image.open ('1.png')\n",
    "text = pytesseract.image_to_string(img, config=’-l eng --oem 3 --psm 12’)\n",
    "print (text)\n"
   ]
  },
  {
   "cell_type": "code",
   "execution_count": null,
   "metadata": {},
   "outputs": [],
   "source": []
  }
 ],
 "metadata": {
  "kernelspec": {
   "display_name": "Python 3",
   "language": "python",
   "name": "python3"
  },
  "language_info": {
   "codemirror_mode": {
    "name": "ipython",
    "version": 3
   },
   "file_extension": ".py",
   "mimetype": "text/x-python",
   "name": "python",
   "nbconvert_exporter": "python",
   "pygments_lexer": "ipython3",
   "version": "3.7.3"
  }
 },
 "nbformat": 4,
 "nbformat_minor": 2
}
